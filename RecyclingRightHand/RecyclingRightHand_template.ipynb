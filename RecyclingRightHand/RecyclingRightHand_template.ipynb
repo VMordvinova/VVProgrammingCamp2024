{
  "nbformat": 4,
  "nbformat_minor": 0,
  "metadata": {
    "colab": {
      "provenance": [],
      "gpuType": "L4"
    },
    "kernelspec": {
      "name": "python3",
      "display_name": "Python 3"
    },
    "language_info": {
      "name": "python"
    },
    "accelerator": "GPU"
  },
  "cells": [
    {
      "cell_type": "markdown",
      "source": [
        "Pip installing tools required in order to import the dataset"
      ],
      "metadata": {
        "id": "i1iQoVIu7CAm"
      }
    },
    {
      "cell_type": "code",
      "execution_count": null,
      "metadata": {
        "id": "JSRaXmVh3qTI"
      },
      "outputs": [],
      "source": [
        "!pip install opendatasets\n",
        "!pip install pandas"
      ]
    },
    {
      "cell_type": "markdown",
      "source": [
        "Importing the libraries required for installing the dataset and downloaded the dataset\n",
        "\n",
        "* Kaggle Username: Veronica Mordvinova2\n",
        "* Kaggle Key: will be given during the lesson"
      ],
      "metadata": {
        "id": "APPrPaY68UIC"
      }
    },
    {
      "cell_type": "code",
      "source": [
        "import opendatasets as od\n",
        "import pandas\n",
        "\n",
        "od.download(\n",
        "\t\"https://www.kaggle.com/datasets/asdasdasasdas/garbage-classification\")"
      ],
      "metadata": {
        "id": "450thkUd7BL9"
      },
      "execution_count": null,
      "outputs": []
    },
    {
      "cell_type": "markdown",
      "source": [
        "#**Importing and Formatting the Data**"
      ],
      "metadata": {
        "id": "iDRX3lzmG6_H"
      }
    },
    {
      "cell_type": "markdown",
      "source": [
        "Importing the rest of the libraries needed to train the model"
      ],
      "metadata": {
        "id": "I6Wvs2S_F6H_"
      }
    },
    {
      "cell_type": "code",
      "source": [
        "import tensorflow as tf\n",
        "from tensorflow.keras.preprocessing.image import ImageDataGenerator\n",
        "from sklearn.model_selection import train_test_split\n",
        "import numpy as np\n",
        "import matplotlib.pyplot as plt\n",
        "import os\n",
        "import PIL\n",
        "import pathlib"
      ],
      "metadata": {
        "id": "iF7ju95pGBtX"
      },
      "execution_count": null,
      "outputs": []
    },
    {
      "cell_type": "markdown",
      "source": [
        "Loading in the images from the dataset and splitting them into \"training\" and \"validation\" data\n",
        "\n",
        "Training data - is labeled data which we give the computer in order for it to learn how to guess images correctly\n",
        "\n",
        "Validation data - used to see how accurate the computer's guesses are"
      ],
      "metadata": {
        "id": "XwPaAp3hGMkW"
      }
    },
    {
      "cell_type": "code",
      "source": [],
      "metadata": {
        "id": "BdglGSuNGUXv"
      },
      "execution_count": null,
      "outputs": []
    },
    {
      "cell_type": "markdown",
      "source": [
        "#**Building the Model**\n"
      ],
      "metadata": {
        "id": "6Lasv-7-GxHh"
      }
    },
    {
      "cell_type": "markdown",
      "source": [
        "Making sure that there is buffered prefetching - so you can you can yield date from disk without having I/O becoming a blocker\n",
        "\n",
        "Dataset.cache - allow the images to be stored in memory so they don't have to be searched for repeatedly with each iteration\n",
        "\n",
        "Dataset.prefetch - connects the cache to the model execution (you'll see this further down on the page)"
      ],
      "metadata": {
        "id": "YI64yer3HL28"
      }
    },
    {
      "cell_type": "code",
      "source": [],
      "metadata": {
        "id": "xKAnUnaWew0B"
      },
      "execution_count": null,
      "outputs": []
    },
    {
      "cell_type": "markdown",
      "source": [
        "Since colours appear as values between 0 and 255, and we want our values to be in the 0-1 range - we will divide the numbers by 255 in order to **normalize** them."
      ],
      "metadata": {
        "id": "GlVVhWGufndx"
      }
    },
    {
      "cell_type": "code",
      "source": [],
      "metadata": {
        "id": "gkLM3tvg6Af6"
      },
      "execution_count": null,
      "outputs": []
    },
    {
      "cell_type": "markdown",
      "source": [
        "Here we apply the **\"normalization\"** - meaning that we are dividing the pixel values in each image, and making sure that the computer is still able to know what the image is of."
      ],
      "metadata": {
        "id": "VjbXMgdWf8Ut"
      }
    },
    {
      "cell_type": "code",
      "source": [],
      "metadata": {
        "id": "JsZlFCBLe7Kj"
      },
      "execution_count": null,
      "outputs": []
    },
    {
      "cell_type": "markdown",
      "source": [
        "Here we are building what you would see in a machine learning diagram - a lot of different layers that connect together.\n",
        "\n",
        "These layers filter information and allow the machine to learn!"
      ],
      "metadata": {
        "id": "RaZ3uk1xHurf"
      }
    },
    {
      "cell_type": "code",
      "source": [],
      "metadata": {
        "id": "WbJvedWPHx0R"
      },
      "execution_count": null,
      "outputs": []
    },
    {
      "cell_type": "markdown",
      "source": [
        "Now we are compiling (just like in Python) our model, so that we can see a variety of summary information (such as accuracy of the model at any step) when we are training our model."
      ],
      "metadata": {
        "id": "CcWdMfM5HXoK"
      }
    },
    {
      "cell_type": "code",
      "source": [],
      "metadata": {
        "id": "1zjSk0pDHhqK"
      },
      "execution_count": null,
      "outputs": []
    },
    {
      "cell_type": "markdown",
      "source": [
        "#**Training the Model**"
      ],
      "metadata": {
        "id": "slk7qBmxH3bF"
      }
    },
    {
      "cell_type": "markdown",
      "source": [
        "Now we are ready to train the model! We are using our training data to train the model and the validation data in order to test how accurate the machine's guesses are\n",
        "\n",
        "Epochs are how many passthroughs of the data that you want to do, in order to make the model more accurate."
      ],
      "metadata": {
        "id": "Mm7RQyRJhWbA"
      }
    },
    {
      "cell_type": "code",
      "source": [],
      "metadata": {
        "id": "7kPqoEz6tMVx"
      },
      "execution_count": null,
      "outputs": []
    },
    {
      "cell_type": "markdown",
      "source": [
        "#**Testing**"
      ],
      "metadata": {
        "id": "8CSNv8-oUz1Y"
      }
    },
    {
      "cell_type": "markdown",
      "source": [
        "Are you curious as to how accurate our models ended up being?\n",
        "\n",
        "You can test our machine learning model by inserting a new link in the \"test_url\" variable and seeing if it predicted the result accurately!\n",
        "\n",
        "Follow up question: why might it not have predicted the material accurately?"
      ],
      "metadata": {
        "id": "XGhd56wIiJJu"
      }
    },
    {
      "cell_type": "code",
      "source": [
        "test_url = \"https://images-na.ssl-images-amazon.com/images/I/81VQ-mOl7CL.jpg\"\n",
        "test_path = tf.keras.utils.get_file(origin=test_url)\n",
        "\n",
        "img = tf.keras.utils.load_img(\n",
        "    test_path, target_size=(256, 256)\n",
        ")\n",
        "img_array = tf.keras.utils.img_to_array(img)\n",
        "img_array = tf.expand_dims(img_array, 0) # Create a batch\n",
        "\n",
        "predictions = model.predict(img_array)\n",
        "score = tf.nn.softmax(predictions[0])\n",
        "\n",
        "print(\n",
        "    \"This image most likely belongs to {} with a {:.2f} percent confidence.\"\n",
        "    .format(class_names[np.argmax(score)], 100 * np.max(score))\n",
        ")"
      ],
      "metadata": {
        "id": "5vSB8OckU5hI"
      },
      "execution_count": null,
      "outputs": []
    }
  ]
}